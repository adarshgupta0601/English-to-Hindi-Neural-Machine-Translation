{
  "nbformat": 4,
  "nbformat_minor": 0,
  "metadata": {
    "kernelspec": {
      "language": "python",
      "display_name": "Python 3",
      "name": "python3"
    },
    "language_info": {
      "name": "python",
      "version": "3.7.10",
      "mimetype": "text/x-python",
      "codemirror_mode": {
        "name": "ipython",
        "version": 3
      },
      "pygments_lexer": "ipython3",
      "nbconvert_exporter": "python",
      "file_extension": ".py"
    },
    "colab": {
      "name": "nmt-englishhindi_AdarshGupta_R177219010.ipynb",
      "provenance": [],
      "collapsed_sections": []
    }
  },
  "cells": [
    {
      "cell_type": "code",
      "metadata": {
        "_uuid": "8f2839f25d086af736a60e9eeb907d3b93b6e0e5",
        "_cell_guid": "b1076dfc-b9ad-4769-8c92-a6c4dae69d19",
        "id": "uziA0UabFuzx",
        "execution": {
          "iopub.status.busy": "2021-11-23T16:14:57.918586Z",
          "iopub.execute_input": "2021-11-23T16:14:57.918942Z",
          "iopub.status.idle": "2021-11-23T16:14:57.933316Z",
          "shell.execute_reply.started": "2021-11-23T16:14:57.918907Z",
          "shell.execute_reply": "2021-11-23T16:14:57.932610Z"
        },
        "trusted": true,
        "outputId": "f73b32d8-8733-4956-f315-ad8697d7e91c"
      },
      "source": [
        "import numpy as np # linear algebra\n",
        "import pandas as pd # data processing, CSV file I/O (e.g. pd.read_csv)\n",
        "\n",
        "import os\n",
        "import string\n",
        "from string import digits\n",
        "import matplotlib.pyplot as plt\n",
        "%matplotlib inline\n",
        "import re\n",
        "\n",
        "import seaborn as sns\n",
        "from sklearn.utils import shuffle\n",
        "from sklearn.model_selection import train_test_split\n",
        "from keras.layers import Input, LSTM, Embedding, Dense\n",
        "from keras.models import Model\n",
        "\n",
        "\n",
        "pd.set_option('display.max_rows', 500)\n",
        "pd.set_option('display.max_columns', 500)\n",
        "pd.set_option('display.width', 1000)\n",
        "pd.set_option('display.max_colwidth', -1)\n",
        "\n",
        "# Any results you write to the current directory are saved as output."
      ],
      "execution_count": null,
      "outputs": [
        {
          "name": "stderr",
          "text": "/opt/conda/lib/python3.7/site-packages/ipykernel_launcher.py:28: FutureWarning: Passing a negative integer is deprecated in version 1.0 and will not be supported in future version. Instead, use None to not limit the column width.\n",
          "output_type": "stream"
        }
      ]
    },
    {
      "cell_type": "code",
      "metadata": {
        "_cell_guid": "79c7e3d0-c299-4dcb-8224-4455121ee9b0",
        "_uuid": "d629ff2d2480ee46fbb7e2d37f6b5fab8052498a",
        "id": "lM-5U6t-Fu0M",
        "execution": {
          "iopub.status.busy": "2021-11-23T16:14:57.934871Z",
          "iopub.execute_input": "2021-11-23T16:14:57.935870Z",
          "iopub.status.idle": "2021-11-23T16:14:58.706997Z",
          "shell.execute_reply.started": "2021-11-23T16:14:57.935799Z",
          "shell.execute_reply": "2021-11-23T16:14:58.706202Z"
        },
        "trusted": true
      },
      "source": [
        "lines=pd.read_csv(\"../input/hindienglish-corpora/Hindi_English_Truncated_Corpus.csv\",encoding='utf-8')"
      ],
      "execution_count": null,
      "outputs": []
    },
    {
      "cell_type": "code",
      "metadata": {
        "id": "DU41oe38Fu0N",
        "execution": {
          "iopub.status.busy": "2021-11-23T16:14:58.708238Z",
          "iopub.execute_input": "2021-11-23T16:14:58.708551Z",
          "iopub.status.idle": "2021-11-23T16:14:58.731695Z",
          "shell.execute_reply.started": "2021-11-23T16:14:58.708496Z",
          "shell.execute_reply": "2021-11-23T16:14:58.730861Z"
        },
        "trusted": true,
        "outputId": "1c90bd7a-26a0-4ae8-8fc2-60737c0a5b04"
      },
      "source": [
        "lines['source'].value_counts()"
      ],
      "execution_count": null,
      "outputs": [
        {
          "execution_count": 45,
          "output_type": "execute_result",
          "data": {
            "text/plain": "tides        50000\nted          39881\nindic2012    37726\nName: source, dtype: int64"
          },
          "metadata": {}
        }
      ]
    },
    {
      "cell_type": "code",
      "metadata": {
        "id": "JkspUSRXFu0O",
        "execution": {
          "iopub.status.busy": "2021-11-23T16:14:58.733130Z",
          "iopub.execute_input": "2021-11-23T16:14:58.733451Z",
          "iopub.status.idle": "2021-11-23T16:14:58.781082Z",
          "shell.execute_reply.started": "2021-11-23T16:14:58.733410Z",
          "shell.execute_reply": "2021-11-23T16:14:58.780285Z"
        },
        "trusted": true
      },
      "source": [
        "# extract indic2012 values only\n",
        "lines=lines[lines['source']=='indic2012']"
      ],
      "execution_count": null,
      "outputs": []
    },
    {
      "cell_type": "code",
      "metadata": {
        "id": "RJdqje9VFu0O",
        "execution": {
          "iopub.status.busy": "2021-11-23T16:14:58.783494Z",
          "iopub.execute_input": "2021-11-23T16:14:58.783749Z",
          "iopub.status.idle": "2021-11-23T16:14:58.796707Z",
          "shell.execute_reply.started": "2021-11-23T16:14:58.783722Z",
          "shell.execute_reply": "2021-11-23T16:14:58.795834Z"
        },
        "trusted": true,
        "outputId": "6a4a6ccd-7f7a-4816-a533-6862b1999533"
      },
      "source": [
        "lines.head(20)"
      ],
      "execution_count": null,
      "outputs": [
        {
          "execution_count": 47,
          "output_type": "execute_result",
          "data": {
            "text/plain": "       source                                                                                                                                                                                                                                                                                                                                                                  english_sentence                                                                                                                                                                                                                                                                                                                                                                                               hindi_sentence\n2   indic2012  This percentage is even greater than the percentage in India.                                                                                                                                                                                                                                                                                                                     यह प्रतिशत भारत में हिन्दुओं प्रतिशत से अधिक है।                                                                                                                                                                                                                                                                                                                                                           \n4   indic2012  .The ending portion of these Vedas is called Upanishad.                                                                                                                                                                                                                                                                                                                           इन्हीं वेदों का अंतिम भाग उपनिषद कहलाता है।                                                                                                                                                                                                                                                                                                                                                                \n6   indic2012  In this lies the circumstances of people before you.                                                                                                                                                                                                                                                                                                                              इसमें तुमसे पूर्व गुज़रे हुए लोगों के हालात हैं।                                                                                                                                                                                                                                                                                                                                                           \n8   indic2012  “”Global Warming“” refer to warming caused in recent decades and probability of its continual presence and its indirect effect on human being.                                                                                                                                                                                                                                    ग्लोबल वॉर्मिंग से आशय हाल ही के दशकों में हुई वार्मिंग और इसके निरंतर बने रहने के अनुमान और इसके अप्रत्यक्ष रूप से मानव पर पड़ने वाले प्रभाव से है।                                                                                                                                                                                                                                                       \n11  indic2012  Category: Religious Text                                                                                                                                                                                                                                                                                                                                                          श्रेणी:धर्मग्रन्थ                                                                                                                                                                                                                                                                                                                                                                                          \n12  indic2012  This period summarily is pepped up with devotion.                                                                                                                                                                                                                                                                                                                                 यह काल समग्रतः भक्ति भावना से ओतप्रोत काल है।                                                                                                                                                                                                                                                                                                                                                              \n16  indic2012  And now at present the naturecure, Ayurvedic and modern treatments are taking place through the government in Nepal.                                                                                                                                                                                                                                                              हाल में नेपाल के हस्पताल सामन्यतया आयुर्वेद, प्राकृतिक चिकित्सा तथा आधुनिक चिकीत्सा करके सरकारी सेवा विद्यमान हे ।                                                                                                                                                                                                                                                                                         \n17  indic2012  Parliament time frame is 5 years and this will be dissolved before that.                                                                                                                                                                                                                                                                                                          लोकसभा की कार्यावधि 5 वर्ष है पर्ंतु इसे समय से पूर्व भंग किया जा सकता है                                                                                                                                                                                                                                                                                                                                  \n19  indic2012  Extreme weather due to increased mortality; displacements and economic loss will be compounded through growing population. Although, temperate climate has some benefits out of it such as decreased mortality due to cold weather.                                                                                                                                               बढ़ती हुई मौतों displacements और आर्थिक नुकसान जो की अतिवादी मौसम (extreme weather)के कारण संभावित हैं बढती हुई जनसँख्या (growing population)के कारण और भी बदतर हो सकते हैं . हालांकि शीतोष्ण क्षेत्र में इसके कुछ फैदे भी हो सकते हैं जैसे की ठंड की वजह से कम मौतें होना .                                                                                                                               \n22  indic2012  Islam is the world's second-largest religion, after Christianity.                                                                                                                                                                                                                                                                                                                 इस्लाम धर्म (الإسلام) ईसाई धर्म के बाद अनुयाइयों के आधार पर दुनिया का दूसरा सब से बड़ा धर्म है।                                                                                                                                                                                                                                                                                                           \n33  indic2012  Maine                                                                                                                                                                                                                                                                                                                                                                             मेन                                                                                                                                                                                                                                                                                                                                                                                                        \n34  indic2012  IN farsi philosophy firdaus garden is presented as ideal one in Mugal literatures.                                                                                                                                                                                                                                                                                                फारसी रहस्यवाद में मुगल कालीन इस्लामी पाठ्य में फिरदौस को एक आदर्श पूर्णता का बाग बताया गया है।                                                                                                                                                                                                                                                                                                            \n40  indic2012  But after his demise, his bother Sardar Vallabh Bhai Patel did not accept this will and filed a case in the court.                                                                                                                                                                                                                                                                मगर उनके निधन के पश्चात उनके भाई सरदार वल्लभ भाई पटेल ने इस वसीयत को स्वीकार नहीं किया और उसपर अदालत में मुकदमा चलाया।                                                                                                                                                                                                                                                                                     \n48  indic2012  This position is similar to armchair. In this the male puts its legs slightly up near the knees. and his hands are helpful to support the hips of the female. The female spreads her leg touching his back.and after letting her penis inside her vagina takes support on his arms by her hands.In this,he male and female remains quite closer and this provides quite closure.  -झूला यह हत्थाकुर्सी से मिलती जुलती पोजीशन है इसमें पुरुष अपने पैरों को घुटनों के पास से थोड़ा उपर उठा लेता है और उसके हाथ महिला को कूल्हों के पास से सहारा देने का काम करते हैं तथा महिला अपने दोनों पैर उसकी कमर से सटाते हुए सीधे फैला लेती है तथा योनि को लिंग में प्रवेश कराने के बाद अपने हाथ उसके कंधे पर रख सहारा लेती है. इसमें महिला पुरुष काफी निकट रहते हैं इससे यह काफी निकटता प्रदान करती है.\n50  indic2012  category:information technology                                                                                                                                                                                                                                                                                                                                                   श्रेणी:सूचना प्रौद्योगिकी                                                                                                                                                                                                                                                                                                                                                                                  \n57  indic2012  Aryans did not make any statues or temples for deities.                                                                                                                                                                                                                                                                                                                           आर्य देवताओं की कोई मूर्ति या मन्दिर नहीं बनाते थे।                                                                                                                                                                                                                                                                                                                                                        \n58  indic2012  It has three small domes and has been constructed using white marble.                                                                                                                                                                                                                                                                                                             यह एक छोटी तीन गुम्बद वाली तराशे हुए श्वेत संगमर्मर से निर्मित है।                                                                                                                                                                                                                                                                                                                                         \n59  indic2012  .Sarojini Naidu with Mahatma Gandhi                                                                                                                                                                                                                                                                                                                                               महात्मा गांधी के साथ सरोजिनी नायडू                                                                                                                                                                                                                                                                                                                                                                         \n61  indic2012  External links                                                                                                                                                                                                                                                                                                                                                                    बाहरी कड़ियाँ                                                                                                                                                                                                                                                                                                                                                                                              \n69  indic2012  Buddha and danceroom (1958)                                                                                                                                                                                                                                                                                                                                                       बुद्ध और नाचघर (1958)                                                                                                                                                                                                                                                                                                                                                                                      ",
            "text/html": "<div>\n<style scoped>\n    .dataframe tbody tr th:only-of-type {\n        vertical-align: middle;\n    }\n\n    .dataframe tbody tr th {\n        vertical-align: top;\n    }\n\n    .dataframe thead th {\n        text-align: right;\n    }\n</style>\n<table border=\"1\" class=\"dataframe\">\n  <thead>\n    <tr style=\"text-align: right;\">\n      <th></th>\n      <th>source</th>\n      <th>english_sentence</th>\n      <th>hindi_sentence</th>\n    </tr>\n  </thead>\n  <tbody>\n    <tr>\n      <th>2</th>\n      <td>indic2012</td>\n      <td>This percentage is even greater than the percentage in India.</td>\n      <td>यह प्रतिशत भारत में हिन्दुओं प्रतिशत से अधिक है।</td>\n    </tr>\n    <tr>\n      <th>4</th>\n      <td>indic2012</td>\n      <td>.The ending portion of these Vedas is called Upanishad.</td>\n      <td>इन्हीं वेदों का अंतिम भाग उपनिषद कहलाता है।</td>\n    </tr>\n    <tr>\n      <th>6</th>\n      <td>indic2012</td>\n      <td>In this lies the circumstances of people before you.</td>\n      <td>इसमें तुमसे पूर्व गुज़रे हुए लोगों के हालात हैं।</td>\n    </tr>\n    <tr>\n      <th>8</th>\n      <td>indic2012</td>\n      <td>“”Global Warming“” refer to warming caused in recent decades and probability of its continual presence and its indirect effect on human being.</td>\n      <td>ग्लोबल वॉर्मिंग से आशय हाल ही के दशकों में हुई वार्मिंग और इसके निरंतर बने रहने के अनुमान और इसके अप्रत्यक्ष रूप से मानव पर पड़ने वाले प्रभाव से है।</td>\n    </tr>\n    <tr>\n      <th>11</th>\n      <td>indic2012</td>\n      <td>Category: Religious Text</td>\n      <td>श्रेणी:धर्मग्रन्थ</td>\n    </tr>\n    <tr>\n      <th>12</th>\n      <td>indic2012</td>\n      <td>This period summarily is pepped up with devotion.</td>\n      <td>यह काल समग्रतः भक्ति भावना से ओतप्रोत काल है।</td>\n    </tr>\n    <tr>\n      <th>16</th>\n      <td>indic2012</td>\n      <td>And now at present the naturecure, Ayurvedic and modern treatments are taking place through the government in Nepal.</td>\n      <td>हाल में नेपाल के हस्पताल सामन्यतया आयुर्वेद, प्राकृतिक चिकित्सा तथा आधुनिक चिकीत्सा करके सरकारी सेवा विद्यमान हे ।</td>\n    </tr>\n    <tr>\n      <th>17</th>\n      <td>indic2012</td>\n      <td>Parliament time frame is 5 years and this will be dissolved before that.</td>\n      <td>लोकसभा की कार्यावधि 5 वर्ष है पर्ंतु इसे समय से पूर्व भंग किया जा सकता है</td>\n    </tr>\n    <tr>\n      <th>19</th>\n      <td>indic2012</td>\n      <td>Extreme weather due to increased mortality; displacements and economic loss will be compounded through growing population. Although, temperate climate has some benefits out of it such as decreased mortality due to cold weather.</td>\n      <td>बढ़ती हुई मौतों displacements और आर्थिक नुकसान जो की अतिवादी मौसम (extreme weather)के कारण संभावित हैं बढती हुई जनसँख्या (growing population)के कारण और भी बदतर हो सकते हैं . हालांकि शीतोष्ण क्षेत्र में इसके कुछ फैदे भी हो सकते हैं जैसे की ठंड की वजह से कम मौतें होना .</td>\n    </tr>\n    <tr>\n      <th>22</th>\n      <td>indic2012</td>\n      <td>Islam is the world's second-largest religion, after Christianity.</td>\n      <td>इस्लाम धर्म (الإسلام) ईसाई धर्म के बाद अनुयाइयों के आधार पर दुनिया का दूसरा सब से बड़ा धर्म है।</td>\n    </tr>\n    <tr>\n      <th>33</th>\n      <td>indic2012</td>\n      <td>Maine</td>\n      <td>मेन</td>\n    </tr>\n    <tr>\n      <th>34</th>\n      <td>indic2012</td>\n      <td>IN farsi philosophy firdaus garden is presented as ideal one in Mugal literatures.</td>\n      <td>फारसी रहस्यवाद में मुगल कालीन इस्लामी पाठ्य में फिरदौस को एक आदर्श पूर्णता का बाग बताया गया है।</td>\n    </tr>\n    <tr>\n      <th>40</th>\n      <td>indic2012</td>\n      <td>But after his demise, his bother Sardar Vallabh Bhai Patel did not accept this will and filed a case in the court.</td>\n      <td>मगर उनके निधन के पश्चात उनके भाई सरदार वल्लभ भाई पटेल ने इस वसीयत को स्वीकार नहीं किया और उसपर अदालत में मुकदमा चलाया।</td>\n    </tr>\n    <tr>\n      <th>48</th>\n      <td>indic2012</td>\n      <td>This position is similar to armchair. In this the male puts its legs slightly up near the knees. and his hands are helpful to support the hips of the female. The female spreads her leg touching his back.and after letting her penis inside her vagina takes support on his arms by her hands.In this,he male and female remains quite closer and this provides quite closure.</td>\n      <td>-झूला यह हत्थाकुर्सी से मिलती जुलती पोजीशन है इसमें पुरुष अपने पैरों को घुटनों के पास से थोड़ा उपर उठा लेता है और उसके हाथ महिला को कूल्हों के पास से सहारा देने का काम करते हैं तथा महिला अपने दोनों पैर उसकी कमर से सटाते हुए सीधे फैला लेती है तथा योनि को लिंग में प्रवेश कराने के बाद अपने हाथ उसके कंधे पर रख सहारा लेती है. इसमें महिला पुरुष काफी निकट रहते हैं इससे यह काफी निकटता प्रदान करती है.</td>\n    </tr>\n    <tr>\n      <th>50</th>\n      <td>indic2012</td>\n      <td>category:information technology</td>\n      <td>श्रेणी:सूचना प्रौद्योगिकी</td>\n    </tr>\n    <tr>\n      <th>57</th>\n      <td>indic2012</td>\n      <td>Aryans did not make any statues or temples for deities.</td>\n      <td>आर्य देवताओं की कोई मूर्ति या मन्दिर नहीं बनाते थे।</td>\n    </tr>\n    <tr>\n      <th>58</th>\n      <td>indic2012</td>\n      <td>It has three small domes and has been constructed using white marble.</td>\n      <td>यह एक छोटी तीन गुम्बद वाली तराशे हुए श्वेत संगमर्मर से निर्मित है।</td>\n    </tr>\n    <tr>\n      <th>59</th>\n      <td>indic2012</td>\n      <td>.Sarojini Naidu with Mahatma Gandhi</td>\n      <td>महात्मा गांधी के साथ सरोजिनी नायडू</td>\n    </tr>\n    <tr>\n      <th>61</th>\n      <td>indic2012</td>\n      <td>External links</td>\n      <td>बाहरी कड़ियाँ</td>\n    </tr>\n    <tr>\n      <th>69</th>\n      <td>indic2012</td>\n      <td>Buddha and danceroom (1958)</td>\n      <td>बुद्ध और नाचघर (1958)</td>\n    </tr>\n  </tbody>\n</table>\n</div>"
          },
          "metadata": {}
        }
      ]
    },
    {
      "cell_type": "code",
      "metadata": {
        "id": "GEWOwgjLFu0P",
        "execution": {
          "iopub.status.busy": "2021-11-23T16:14:58.797894Z",
          "iopub.execute_input": "2021-11-23T16:14:58.798100Z",
          "iopub.status.idle": "2021-11-23T16:14:58.825689Z",
          "shell.execute_reply.started": "2021-11-23T16:14:58.798075Z",
          "shell.execute_reply": "2021-11-23T16:14:58.825030Z"
        },
        "trusted": true,
        "outputId": "33614456-cdc5-40a8-ebb6-01b092db568b"
      },
      "source": [
        "pd.isnull(lines).sum()"
      ],
      "execution_count": null,
      "outputs": [
        {
          "execution_count": 48,
          "output_type": "execute_result",
          "data": {
            "text/plain": "source              0\nenglish_sentence    2\nhindi_sentence      0\ndtype: int64"
          },
          "metadata": {}
        }
      ]
    },
    {
      "cell_type": "code",
      "metadata": {
        "id": "LXnS5lKXFu0Q",
        "execution": {
          "iopub.status.busy": "2021-11-23T16:14:58.826607Z",
          "iopub.execute_input": "2021-11-23T16:14:58.826819Z",
          "iopub.status.idle": "2021-11-23T16:14:58.841443Z",
          "shell.execute_reply.started": "2021-11-23T16:14:58.826788Z",
          "shell.execute_reply": "2021-11-23T16:14:58.840612Z"
        },
        "trusted": true
      },
      "source": [
        "# remove null values\n",
        "lines=lines[~pd.isnull(lines['english_sentence'])]"
      ],
      "execution_count": null,
      "outputs": []
    },
    {
      "cell_type": "code",
      "metadata": {
        "id": "50ikGLKXFu0R",
        "execution": {
          "iopub.status.busy": "2021-11-23T16:14:58.843178Z",
          "iopub.execute_input": "2021-11-23T16:14:58.843694Z",
          "iopub.status.idle": "2021-11-23T16:14:58.911227Z",
          "shell.execute_reply.started": "2021-11-23T16:14:58.843645Z",
          "shell.execute_reply": "2021-11-23T16:14:58.910359Z"
        },
        "trusted": true
      },
      "source": [
        "lines.drop_duplicates(inplace=True)"
      ],
      "execution_count": null,
      "outputs": []
    },
    {
      "cell_type": "markdown",
      "metadata": {
        "id": "ovzCk4DIFu0R"
      },
      "source": [
        "#### We will pick any 25000 rows from the dataset."
      ]
    },
    {
      "cell_type": "code",
      "metadata": {
        "id": "jGMA3GyHFu0S",
        "execution": {
          "iopub.status.busy": "2021-11-23T16:14:58.914791Z",
          "iopub.execute_input": "2021-11-23T16:14:58.915030Z",
          "iopub.status.idle": "2021-11-23T16:14:58.926519Z",
          "shell.execute_reply.started": "2021-11-23T16:14:58.915002Z",
          "shell.execute_reply": "2021-11-23T16:14:58.925699Z"
        },
        "trusted": true,
        "outputId": "ecaac5a6-9cdd-426f-f214-18e5e5acf811"
      },
      "source": [
        "lines=lines.sample(n=25000,random_state=42)\n",
        "lines.shape"
      ],
      "execution_count": null,
      "outputs": [
        {
          "execution_count": 51,
          "output_type": "execute_result",
          "data": {
            "text/plain": "(25000, 3)"
          },
          "metadata": {}
        }
      ]
    },
    {
      "cell_type": "code",
      "metadata": {
        "id": "fNvf7Ay6Fu0S",
        "execution": {
          "iopub.status.busy": "2021-11-23T16:14:58.927808Z",
          "iopub.execute_input": "2021-11-23T16:14:58.928179Z",
          "iopub.status.idle": "2021-11-23T16:14:58.978971Z",
          "shell.execute_reply.started": "2021-11-23T16:14:58.928142Z",
          "shell.execute_reply": "2021-11-23T16:14:58.978361Z"
        },
        "trusted": true
      },
      "source": [
        "# Lowercase all characters\n",
        "lines['english_sentence']=lines['english_sentence'].apply(lambda x: x.lower())\n",
        "lines['hindi_sentence']=lines['hindi_sentence'].apply(lambda x: x.lower())"
      ],
      "execution_count": null,
      "outputs": []
    },
    {
      "cell_type": "code",
      "metadata": {
        "id": "HvgKvTK_Fu0T",
        "execution": {
          "iopub.status.busy": "2021-11-23T16:14:58.979987Z",
          "iopub.execute_input": "2021-11-23T16:14:58.980559Z",
          "iopub.status.idle": "2021-11-23T16:14:59.071680Z",
          "shell.execute_reply.started": "2021-11-23T16:14:58.980492Z",
          "shell.execute_reply": "2021-11-23T16:14:59.071042Z"
        },
        "trusted": true
      },
      "source": [
        "# Remove quotes\n",
        "lines['english_sentence']=lines['english_sentence'].apply(lambda x: re.sub(\"'\", '', x))\n",
        "lines['hindi_sentence']=lines['hindi_sentence'].apply(lambda x: re.sub(\"'\", '', x))"
      ],
      "execution_count": null,
      "outputs": []
    },
    {
      "cell_type": "code",
      "metadata": {
        "id": "GWZaqEs2Fu0U",
        "execution": {
          "iopub.status.busy": "2021-11-23T16:14:59.072705Z",
          "iopub.execute_input": "2021-11-23T16:14:59.073425Z",
          "iopub.status.idle": "2021-11-23T16:14:59.852329Z",
          "shell.execute_reply.started": "2021-11-23T16:14:59.073349Z",
          "shell.execute_reply": "2021-11-23T16:14:59.851556Z"
        },
        "trusted": true
      },
      "source": [
        "exclude = set(string.punctuation) # Set of all special characters\n",
        "# Remove all the special characters\n",
        "lines['english_sentence']=lines['english_sentence'].apply(lambda x: ''.join(ch for ch in x if ch not in exclude))\n",
        "lines['hindi_sentence']=lines['hindi_sentence'].apply(lambda x: ''.join(ch for ch in x if ch not in exclude))"
      ],
      "execution_count": null,
      "outputs": []
    },
    {
      "cell_type": "code",
      "metadata": {
        "id": "sdMSeOC4Fu0V",
        "execution": {
          "iopub.status.busy": "2021-11-23T16:14:59.853681Z",
          "iopub.execute_input": "2021-11-23T16:14:59.854078Z",
          "iopub.status.idle": "2021-11-23T16:15:00.712963Z",
          "shell.execute_reply.started": "2021-11-23T16:14:59.854047Z",
          "shell.execute_reply": "2021-11-23T16:15:00.712124Z"
        },
        "trusted": true
      },
      "source": [
        "# Remove all numbers from text\n",
        "remove_digits = str.maketrans('', '', digits)\n",
        "lines['english_sentence']=lines['english_sentence'].apply(lambda x: x.translate(remove_digits))\n",
        "lines['hindi_sentence']=lines['hindi_sentence'].apply(lambda x: x.translate(remove_digits))\n",
        "\n",
        "lines['hindi_sentence'] = lines['hindi_sentence'].apply(lambda x: re.sub(\"[२३०८१५७९४६]\", \"\", x))\n",
        "\n",
        "# Remove extra spaces\n",
        "lines['english_sentence']=lines['english_sentence'].apply(lambda x: x.strip())\n",
        "lines['hindi_sentence']=lines['hindi_sentence'].apply(lambda x: x.strip())\n",
        "lines['english_sentence']=lines['english_sentence'].apply(lambda x: re.sub(\" +\", \" \", x))\n",
        "lines['hindi_sentence']=lines['hindi_sentence'].apply(lambda x: re.sub(\" +\", \" \", x))\n"
      ],
      "execution_count": null,
      "outputs": []
    },
    {
      "cell_type": "code",
      "metadata": {
        "id": "-iSdOl4EFu0X",
        "execution": {
          "iopub.status.busy": "2021-11-23T16:15:00.716439Z",
          "iopub.execute_input": "2021-11-23T16:15:00.716790Z",
          "iopub.status.idle": "2021-11-23T16:15:00.742430Z",
          "shell.execute_reply.started": "2021-11-23T16:15:00.716755Z",
          "shell.execute_reply": "2021-11-23T16:15:00.741072Z"
        },
        "trusted": true
      },
      "source": [
        "# Add start and end tokens to target sequences\n",
        "lines['hindi_sentence'] = lines['hindi_sentence'].apply(lambda x : 'START_ '+ x + ' _END')"
      ],
      "execution_count": null,
      "outputs": []
    },
    {
      "cell_type": "code",
      "metadata": {
        "id": "10_uytWZFu0X",
        "execution": {
          "iopub.status.busy": "2021-11-23T16:15:00.744247Z",
          "iopub.execute_input": "2021-11-23T16:15:00.744515Z",
          "iopub.status.idle": "2021-11-23T16:15:00.763407Z",
          "shell.execute_reply.started": "2021-11-23T16:15:00.744484Z",
          "shell.execute_reply": "2021-11-23T16:15:00.762824Z"
        },
        "trusted": true,
        "outputId": "0c01c562-40a4-4292-ef4a-548891ba6f7b"
      },
      "source": [
        "lines.head()"
      ],
      "execution_count": null,
      "outputs": [
        {
          "execution_count": 57,
          "output_type": "execute_result",
          "data": {
            "text/plain": "           source                                                                                                                                                                                                                                                                                                                                                                                                  english_sentence                                                                                                                                                                                                                                                                                                                                                                                                              hindi_sentence\n43137   indic2012  occurring in the environment recently increased carbon di oxide co monthly co measurements dershat that if you saw all year get to see the seasonal changes are small every year paryaverton northern hemisphere northern hemisphere seasons in the aswh at the end of the northern hemisphere crops have become more bjne is the time get at the change of environment because the plants remove some co charge  START_ वातावरण में कार्बन डाइऑक्साइड में हाल ही में होने वाली बढोतरी co मासिक co मापन यह दर्शाते हैं कि अगर सारे वर्ष को देखा जाए तो छोटेछोटे मौसमी परिवर्तन देखने को मिलते हैं हर साल यह परिवर्तन उत्तरी गोलार्ध northern hemisphere में वसव्त मौसम के आख़िर में अधिक हो जाते हैं और जब उत्तरी गोलार्ध में फसलें बीजने का समय होता है तो यह परिवर्तन कम हो जाते हैं क्यूंकि पौधे वातावरण में से कुछ co हटा लेते हैंi _END\n107772  indic2012  her father aghoranath chattopadhyay was a wellknown scholar and mother was a poet who wrote in bengali                                                                                                                                                                                                                                                                                                            START_ इनके पिता अघोरनाथ चट्टोपाध्याय एक नामी विद्वान तथा माँ कवयित्री थीं और बांग्ला में लिखती थीं । _END                                                                                                                                                                                                                                                                                                                \n120507  indic2012  nishadraj guh served those three very well in ringverpur                                                                                                                                                                                                                                                                                                                                                          START_ ऋंगवेरपुर में निषादराज गुह ने तीनों की बहुत सेवा की। _END                                                                                                                                                                                                                                                                                                                                                          \n28755   indic2012  the ordinance that was rejected by loksabha can be passed again before six weeks period                                                                                                                                                                                                                                                                                                                           START_ लोकसभा एक अध्यादेश को अस्वीकृत करने वाला प्रस्ताव सप्ताह की अवधि समाप्त होने से पूर्व पास कर सकती है _END                                                                                                                                                                                                                                                                                                          \n86303   indic2012  number of                                                                                                                                                                                                                                                                                                                                                                                                         START_ अठारह की संख्या _END                                                                                                                                                                                                                                                                                                                                                                                               ",
            "text/html": "<div>\n<style scoped>\n    .dataframe tbody tr th:only-of-type {\n        vertical-align: middle;\n    }\n\n    .dataframe tbody tr th {\n        vertical-align: top;\n    }\n\n    .dataframe thead th {\n        text-align: right;\n    }\n</style>\n<table border=\"1\" class=\"dataframe\">\n  <thead>\n    <tr style=\"text-align: right;\">\n      <th></th>\n      <th>source</th>\n      <th>english_sentence</th>\n      <th>hindi_sentence</th>\n    </tr>\n  </thead>\n  <tbody>\n    <tr>\n      <th>43137</th>\n      <td>indic2012</td>\n      <td>occurring in the environment recently increased carbon di oxide co monthly co measurements dershat that if you saw all year get to see the seasonal changes are small every year paryaverton northern hemisphere northern hemisphere seasons in the aswh at the end of the northern hemisphere crops have become more bjne is the time get at the change of environment because the plants remove some co charge</td>\n      <td>START_ वातावरण में कार्बन डाइऑक्साइड में हाल ही में होने वाली बढोतरी co मासिक co मापन यह दर्शाते हैं कि अगर सारे वर्ष को देखा जाए तो छोटेछोटे मौसमी परिवर्तन देखने को मिलते हैं हर साल यह परिवर्तन उत्तरी गोलार्ध northern hemisphere में वसव्त मौसम के आख़िर में अधिक हो जाते हैं और जब उत्तरी गोलार्ध में फसलें बीजने का समय होता है तो यह परिवर्तन कम हो जाते हैं क्यूंकि पौधे वातावरण में से कुछ co हटा लेते हैंi _END</td>\n    </tr>\n    <tr>\n      <th>107772</th>\n      <td>indic2012</td>\n      <td>her father aghoranath chattopadhyay was a wellknown scholar and mother was a poet who wrote in bengali</td>\n      <td>START_ इनके पिता अघोरनाथ चट्टोपाध्याय एक नामी विद्वान तथा माँ कवयित्री थीं और बांग्ला में लिखती थीं । _END</td>\n    </tr>\n    <tr>\n      <th>120507</th>\n      <td>indic2012</td>\n      <td>nishadraj guh served those three very well in ringverpur</td>\n      <td>START_ ऋंगवेरपुर में निषादराज गुह ने तीनों की बहुत सेवा की। _END</td>\n    </tr>\n    <tr>\n      <th>28755</th>\n      <td>indic2012</td>\n      <td>the ordinance that was rejected by loksabha can be passed again before six weeks period</td>\n      <td>START_ लोकसभा एक अध्यादेश को अस्वीकृत करने वाला प्रस्ताव सप्ताह की अवधि समाप्त होने से पूर्व पास कर सकती है _END</td>\n    </tr>\n    <tr>\n      <th>86303</th>\n      <td>indic2012</td>\n      <td>number of</td>\n      <td>START_ अठारह की संख्या _END</td>\n    </tr>\n  </tbody>\n</table>\n</div>"
          },
          "metadata": {}
        }
      ]
    },
    {
      "cell_type": "code",
      "metadata": {
        "id": "Mwvq283hFu0Y",
        "execution": {
          "iopub.status.busy": "2021-11-23T16:15:00.764695Z",
          "iopub.execute_input": "2021-11-23T16:15:00.766587Z",
          "iopub.status.idle": "2021-11-23T16:15:01.024899Z",
          "shell.execute_reply.started": "2021-11-23T16:15:00.766519Z",
          "shell.execute_reply": "2021-11-23T16:15:01.023879Z"
        },
        "trusted": true
      },
      "source": [
        "### Get English and Hindi Vocabulary\n",
        "# split words and add to set\n",
        "all_eng_words=set()\n",
        "for eng in lines['english_sentence']:\n",
        "    for word in eng.split():\n",
        "        # ignore duplicate\n",
        "        if word not in all_eng_words:\n",
        "            all_eng_words.add(word)\n",
        "\n",
        "all_hindi_words=set()\n",
        "for hin in lines['hindi_sentence']:\n",
        "    for word in hin.split():\n",
        "        if word not in all_hindi_words:\n",
        "            all_hindi_words.add(word)"
      ],
      "execution_count": null,
      "outputs": []
    },
    {
      "cell_type": "code",
      "metadata": {
        "id": "l_LKQCq1Fu0Z",
        "execution": {
          "iopub.status.busy": "2021-11-23T16:15:01.026563Z",
          "iopub.execute_input": "2021-11-23T16:15:01.026969Z",
          "iopub.status.idle": "2021-11-23T16:15:01.033509Z",
          "shell.execute_reply.started": "2021-11-23T16:15:01.026872Z",
          "shell.execute_reply": "2021-11-23T16:15:01.032696Z"
        },
        "trusted": true,
        "outputId": "08bacf42-0525-4952-f892-2dbca647c8bf"
      },
      "source": [
        "len(all_eng_words)"
      ],
      "execution_count": null,
      "outputs": [
        {
          "execution_count": 59,
          "output_type": "execute_result",
          "data": {
            "text/plain": "30447"
          },
          "metadata": {}
        }
      ]
    },
    {
      "cell_type": "code",
      "metadata": {
        "id": "jPHonlETFu0a",
        "execution": {
          "iopub.status.busy": "2021-11-23T16:15:01.034765Z",
          "iopub.execute_input": "2021-11-23T16:15:01.035137Z",
          "iopub.status.idle": "2021-11-23T16:15:01.044413Z",
          "shell.execute_reply.started": "2021-11-23T16:15:01.035103Z",
          "shell.execute_reply": "2021-11-23T16:15:01.043729Z"
        },
        "trusted": true,
        "outputId": "75212431-ec1d-4092-eada-d40a6009dc47"
      },
      "source": [
        "len(all_hindi_words)"
      ],
      "execution_count": null,
      "outputs": [
        {
          "execution_count": 60,
          "output_type": "execute_result",
          "data": {
            "text/plain": "20506"
          },
          "metadata": {}
        }
      ]
    },
    {
      "cell_type": "code",
      "metadata": {
        "id": "-JHUvShiFu0b",
        "execution": {
          "iopub.status.busy": "2021-11-23T16:15:01.045326Z",
          "iopub.execute_input": "2021-11-23T16:15:01.045811Z",
          "iopub.status.idle": "2021-11-23T16:15:01.164949Z",
          "shell.execute_reply.started": "2021-11-23T16:15:01.045782Z",
          "shell.execute_reply": "2021-11-23T16:15:01.164208Z"
        },
        "trusted": true
      },
      "source": [
        "lines['length_eng_sentence']=lines['english_sentence'].apply(lambda x:len(x.split(\" \")))\n",
        "lines['length_hin_sentence']=lines['hindi_sentence'].apply(lambda x:len(x.split(\" \")))"
      ],
      "execution_count": null,
      "outputs": []
    },
    {
      "cell_type": "code",
      "metadata": {
        "id": "Lils8cx_Fu0b",
        "execution": {
          "iopub.status.busy": "2021-11-23T16:15:01.165989Z",
          "iopub.execute_input": "2021-11-23T16:15:01.166217Z",
          "iopub.status.idle": "2021-11-23T16:15:01.178736Z",
          "shell.execute_reply.started": "2021-11-23T16:15:01.166191Z",
          "shell.execute_reply": "2021-11-23T16:15:01.177953Z"
        },
        "trusted": true,
        "outputId": "509debd2-b0da-44ce-92d2-205b1025a987"
      },
      "source": [
        "lines.head()"
      ],
      "execution_count": null,
      "outputs": [
        {
          "execution_count": 62,
          "output_type": "execute_result",
          "data": {
            "text/plain": "           source                                                                                                                                                                                                                                                                                                                                                                                                  english_sentence                                                                                                                                                                                                                                                                                                                                                                                                              hindi_sentence  length_eng_sentence  length_hin_sentence\n43137   indic2012  occurring in the environment recently increased carbon di oxide co monthly co measurements dershat that if you saw all year get to see the seasonal changes are small every year paryaverton northern hemisphere northern hemisphere seasons in the aswh at the end of the northern hemisphere crops have become more bjne is the time get at the change of environment because the plants remove some co charge  START_ वातावरण में कार्बन डाइऑक्साइड में हाल ही में होने वाली बढोतरी co मासिक co मापन यह दर्शाते हैं कि अगर सारे वर्ष को देखा जाए तो छोटेछोटे मौसमी परिवर्तन देखने को मिलते हैं हर साल यह परिवर्तन उत्तरी गोलार्ध northern hemisphere में वसव्त मौसम के आख़िर में अधिक हो जाते हैं और जब उत्तरी गोलार्ध में फसलें बीजने का समय होता है तो यह परिवर्तन कम हो जाते हैं क्यूंकि पौधे वातावरण में से कुछ co हटा लेते हैंi _END  67                   81                 \n107772  indic2012  her father aghoranath chattopadhyay was a wellknown scholar and mother was a poet who wrote in bengali                                                                                                                                                                                                                                                                                                            START_ इनके पिता अघोरनाथ चट्टोपाध्याय एक नामी विद्वान तथा माँ कवयित्री थीं और बांग्ला में लिखती थीं । _END                                                                                                                                                                                                                                                                                                                  17                   19                 \n120507  indic2012  nishadraj guh served those three very well in ringverpur                                                                                                                                                                                                                                                                                                                                                          START_ ऋंगवेरपुर में निषादराज गुह ने तीनों की बहुत सेवा की। _END                                                                                                                                                                                                                                                                                                                                                            9                    12                 \n28755   indic2012  the ordinance that was rejected by loksabha can be passed again before six weeks period                                                                                                                                                                                                                                                                                                                           START_ लोकसभा एक अध्यादेश को अस्वीकृत करने वाला प्रस्ताव सप्ताह की अवधि समाप्त होने से पूर्व पास कर सकती है _END                                                                                                                                                                                                                                                                                                            15                   21                 \n86303   indic2012  number of                                                                                                                                                                                                                                                                                                                                                                                                         START_ अठारह की संख्या _END                                                                                                                                                                                                                                                                                                                                                                                                 2                    5                  ",
            "text/html": "<div>\n<style scoped>\n    .dataframe tbody tr th:only-of-type {\n        vertical-align: middle;\n    }\n\n    .dataframe tbody tr th {\n        vertical-align: top;\n    }\n\n    .dataframe thead th {\n        text-align: right;\n    }\n</style>\n<table border=\"1\" class=\"dataframe\">\n  <thead>\n    <tr style=\"text-align: right;\">\n      <th></th>\n      <th>source</th>\n      <th>english_sentence</th>\n      <th>hindi_sentence</th>\n      <th>length_eng_sentence</th>\n      <th>length_hin_sentence</th>\n    </tr>\n  </thead>\n  <tbody>\n    <tr>\n      <th>43137</th>\n      <td>indic2012</td>\n      <td>occurring in the environment recently increased carbon di oxide co monthly co measurements dershat that if you saw all year get to see the seasonal changes are small every year paryaverton northern hemisphere northern hemisphere seasons in the aswh at the end of the northern hemisphere crops have become more bjne is the time get at the change of environment because the plants remove some co charge</td>\n      <td>START_ वातावरण में कार्बन डाइऑक्साइड में हाल ही में होने वाली बढोतरी co मासिक co मापन यह दर्शाते हैं कि अगर सारे वर्ष को देखा जाए तो छोटेछोटे मौसमी परिवर्तन देखने को मिलते हैं हर साल यह परिवर्तन उत्तरी गोलार्ध northern hemisphere में वसव्त मौसम के आख़िर में अधिक हो जाते हैं और जब उत्तरी गोलार्ध में फसलें बीजने का समय होता है तो यह परिवर्तन कम हो जाते हैं क्यूंकि पौधे वातावरण में से कुछ co हटा लेते हैंi _END</td>\n      <td>67</td>\n      <td>81</td>\n    </tr>\n    <tr>\n      <th>107772</th>\n      <td>indic2012</td>\n      <td>her father aghoranath chattopadhyay was a wellknown scholar and mother was a poet who wrote in bengali</td>\n      <td>START_ इनके पिता अघोरनाथ चट्टोपाध्याय एक नामी विद्वान तथा माँ कवयित्री थीं और बांग्ला में लिखती थीं । _END</td>\n      <td>17</td>\n      <td>19</td>\n    </tr>\n    <tr>\n      <th>120507</th>\n      <td>indic2012</td>\n      <td>nishadraj guh served those three very well in ringverpur</td>\n      <td>START_ ऋंगवेरपुर में निषादराज गुह ने तीनों की बहुत सेवा की। _END</td>\n      <td>9</td>\n      <td>12</td>\n    </tr>\n    <tr>\n      <th>28755</th>\n      <td>indic2012</td>\n      <td>the ordinance that was rejected by loksabha can be passed again before six weeks period</td>\n      <td>START_ लोकसभा एक अध्यादेश को अस्वीकृत करने वाला प्रस्ताव सप्ताह की अवधि समाप्त होने से पूर्व पास कर सकती है _END</td>\n      <td>15</td>\n      <td>21</td>\n    </tr>\n    <tr>\n      <th>86303</th>\n      <td>indic2012</td>\n      <td>number of</td>\n      <td>START_ अठारह की संख्या _END</td>\n      <td>2</td>\n      <td>5</td>\n    </tr>\n  </tbody>\n</table>\n</div>"
          },
          "metadata": {}
        }
      ]
    },
    {
      "cell_type": "code",
      "metadata": {
        "id": "uQBX_839Fu0c",
        "execution": {
          "iopub.status.busy": "2021-11-23T16:15:01.179627Z",
          "iopub.execute_input": "2021-11-23T16:15:01.179826Z",
          "iopub.status.idle": "2021-11-23T16:15:01.194257Z",
          "shell.execute_reply.started": "2021-11-23T16:15:01.179800Z",
          "shell.execute_reply": "2021-11-23T16:15:01.193499Z"
        },
        "trusted": true,
        "outputId": "7626ebc4-829c-4349-f148-360feba374af"
      },
      "source": [
        "lines[lines['length_eng_sentence']>30].shape"
      ],
      "execution_count": null,
      "outputs": [
        {
          "execution_count": 63,
          "output_type": "execute_result",
          "data": {
            "text/plain": "(2030, 5)"
          },
          "metadata": {}
        }
      ]
    },
    {
      "cell_type": "code",
      "metadata": {
        "id": "P8IN5YxIFu0d",
        "execution": {
          "iopub.status.busy": "2021-11-23T16:15:01.195644Z",
          "iopub.execute_input": "2021-11-23T16:15:01.196417Z",
          "iopub.status.idle": "2021-11-23T16:15:01.206278Z",
          "shell.execute_reply.started": "2021-11-23T16:15:01.196372Z",
          "shell.execute_reply": "2021-11-23T16:15:01.205597Z"
        },
        "trusted": true
      },
      "source": [
        "lines=lines[lines['length_eng_sentence']<=20]\n",
        "lines=lines[lines['length_hin_sentence']<=20]"
      ],
      "execution_count": null,
      "outputs": []
    },
    {
      "cell_type": "code",
      "metadata": {
        "id": "tZ25gkdoFu0d",
        "execution": {
          "iopub.status.busy": "2021-11-23T16:15:01.207742Z",
          "iopub.execute_input": "2021-11-23T16:15:01.208158Z",
          "iopub.status.idle": "2021-11-23T16:15:01.215239Z",
          "shell.execute_reply.started": "2021-11-23T16:15:01.208117Z",
          "shell.execute_reply": "2021-11-23T16:15:01.214252Z"
        },
        "trusted": true,
        "outputId": "e1cb0b9a-935a-4310-bc21-dd462aede8d7"
      },
      "source": [
        "lines.shape"
      ],
      "execution_count": null,
      "outputs": [
        {
          "execution_count": 65,
          "output_type": "execute_result",
          "data": {
            "text/plain": "(16970, 5)"
          },
          "metadata": {}
        }
      ]
    },
    {
      "cell_type": "code",
      "metadata": {
        "id": "xC6dtbLpFu0e",
        "execution": {
          "iopub.status.busy": "2021-11-23T16:15:01.216577Z",
          "iopub.execute_input": "2021-11-23T16:15:01.217127Z",
          "iopub.status.idle": "2021-11-23T16:15:01.231129Z",
          "shell.execute_reply.started": "2021-11-23T16:15:01.217084Z",
          "shell.execute_reply": "2021-11-23T16:15:01.230184Z"
        },
        "trusted": true,
        "outputId": "2a97114b-95a8-4022-9d73-3b3e3e704d9a"
      },
      "source": [
        "print(\"maximum length of Hindi Sentence \",max(lines['length_hin_sentence']))\n",
        "print(\"maximum length of English Sentence \",max(lines['length_eng_sentence']))"
      ],
      "execution_count": null,
      "outputs": [
        {
          "name": "stdout",
          "text": "maximum length of Hindi Sentence  20\nmaximum length of English Sentence  20\n",
          "output_type": "stream"
        }
      ]
    },
    {
      "cell_type": "code",
      "metadata": {
        "id": "5-Beg0qnFu0e",
        "execution": {
          "iopub.status.busy": "2021-11-23T16:15:01.232254Z",
          "iopub.execute_input": "2021-11-23T16:15:01.232479Z",
          "iopub.status.idle": "2021-11-23T16:15:01.247664Z",
          "shell.execute_reply.started": "2021-11-23T16:15:01.232451Z",
          "shell.execute_reply": "2021-11-23T16:15:01.246695Z"
        },
        "trusted": true
      },
      "source": [
        "# save max length of source and target sentences \n",
        "# example: 20\n",
        "max_length_src=max(lines['length_hin_sentence'])\n",
        "max_length_tar=max(lines['length_eng_sentence'])"
      ],
      "execution_count": null,
      "outputs": []
    },
    {
      "cell_type": "code",
      "metadata": {
        "id": "Ky1fed94Fu0f",
        "execution": {
          "iopub.status.busy": "2021-11-23T16:15:01.249095Z",
          "iopub.execute_input": "2021-11-23T16:15:01.249587Z",
          "iopub.status.idle": "2021-11-23T16:15:01.294489Z",
          "shell.execute_reply.started": "2021-11-23T16:15:01.249528Z",
          "shell.execute_reply": "2021-11-23T16:15:01.293479Z"
        },
        "trusted": true,
        "outputId": "cca40552-8891-4fe8-e675-4d24477aea7e"
      },
      "source": [
        "# convert words into list for encoder-decoder\n",
        "\n",
        "input_words = sorted(list(all_eng_words))\n",
        "target_words = sorted(list(all_hindi_words))\n",
        "num_encoder_tokens = len(all_eng_words)\n",
        "num_decoder_tokens = len(all_hindi_words)"
      ],
      "execution_count": null,
      "outputs": [
        {
          "execution_count": 68,
          "output_type": "execute_result",
          "data": {
            "text/plain": "(30447, 20506)"
          },
          "metadata": {}
        }
      ]
    },
    {
      "cell_type": "code",
      "metadata": {
        "execution": {
          "iopub.status.busy": "2021-11-23T17:11:26.237366Z",
          "iopub.execute_input": "2021-11-23T17:11:26.237952Z",
          "iopub.status.idle": "2021-11-23T17:11:26.242913Z",
          "shell.execute_reply.started": "2021-11-23T17:11:26.237899Z",
          "shell.execute_reply": "2021-11-23T17:11:26.242017Z"
        },
        "trusted": true,
        "id": "5kjOsbVf2X6t",
        "outputId": "40a79492-4730-4093-f6b9-9a05296b0b31"
      },
      "source": [
        "print(input_words[:5])"
      ],
      "execution_count": null,
      "outputs": [
        {
          "name": "stdout",
          "text": "['a', 'aa', 'aaber', 'aabu', 'aac']\n",
          "output_type": "stream"
        }
      ]
    },
    {
      "cell_type": "code",
      "metadata": {
        "id": "9KJK6h4AFu0f",
        "execution": {
          "iopub.status.busy": "2021-11-23T16:15:01.297724Z",
          "iopub.execute_input": "2021-11-23T16:15:01.298089Z",
          "iopub.status.idle": "2021-11-23T16:15:01.304442Z",
          "shell.execute_reply.started": "2021-11-23T16:15:01.298051Z",
          "shell.execute_reply": "2021-11-23T16:15:01.303616Z"
        },
        "trusted": true
      },
      "source": [
        "num_decoder_tokens += 1 #for zero padding\n"
      ],
      "execution_count": null,
      "outputs": []
    },
    {
      "cell_type": "code",
      "metadata": {
        "id": "CIxolSnbFu0f",
        "execution": {
          "iopub.status.busy": "2021-11-23T16:15:01.305712Z",
          "iopub.execute_input": "2021-11-23T16:15:01.306460Z",
          "iopub.status.idle": "2021-11-23T16:15:01.347314Z",
          "shell.execute_reply.started": "2021-11-23T16:15:01.306416Z",
          "shell.execute_reply": "2021-11-23T16:15:01.346690Z"
        },
        "trusted": true
      },
      "source": [
        "# dictionary containing word and index\n",
        "\n",
        "input_token_index = dict([(word, i+1) for i, word in enumerate(input_words)])\n",
        "target_token_index = dict([(word, i+1) for i, word in enumerate(target_words)])"
      ],
      "execution_count": null,
      "outputs": []
    },
    {
      "cell_type": "code",
      "metadata": {
        "id": "zVKLgsVuFu0g",
        "execution": {
          "iopub.status.busy": "2021-11-23T16:15:01.348361Z",
          "iopub.execute_input": "2021-11-23T16:15:01.348697Z",
          "iopub.status.idle": "2021-11-23T16:15:01.368570Z",
          "shell.execute_reply.started": "2021-11-23T16:15:01.348670Z",
          "shell.execute_reply": "2021-11-23T16:15:01.367736Z"
        },
        "trusted": true
      },
      "source": [
        "reverse_input_char_index = dict((i, word) for word, i in input_token_index.items())\n",
        "reverse_target_char_index = dict((i, word) for word, i in target_token_index.items())"
      ],
      "execution_count": null,
      "outputs": []
    },
    {
      "cell_type": "code",
      "metadata": {
        "id": "leMTNNfZFu0g",
        "execution": {
          "iopub.status.busy": "2021-11-23T16:15:01.369854Z",
          "iopub.execute_input": "2021-11-23T16:15:01.370065Z",
          "iopub.status.idle": "2021-11-23T16:15:01.387744Z",
          "shell.execute_reply.started": "2021-11-23T16:15:01.370032Z",
          "shell.execute_reply": "2021-11-23T16:15:01.386615Z"
        },
        "trusted": true,
        "outputId": "188c916b-4e64-4557-ea72-a6f49e6c3042"
      },
      "source": [
        "lines = shuffle(lines)\n",
        "lines.head(10)"
      ],
      "execution_count": null,
      "outputs": [
        {
          "execution_count": 72,
          "output_type": "execute_result",
          "data": {
            "text/plain": "           source                                                                    english_sentence                                                                                         hindi_sentence  length_eng_sentence  length_hin_sentence\n35273   indic2012  premchand and key to hindi                                                          START_ प्रेमचंद हिंदीकुंज में _END                                                                     5                    5                  \n110967  indic2012  in last yudhirthir aboard on indra chariot with brother and went to havens          START_ अन्त में युधिष्ठिर इन्द्र के रथ पर आरूढ़ हो दिव्य रूप धारी भाइयों सहित स्वर्ग को चले गये। _END  13                   20                 \n32202   indic2012  he knew each and every bit in this type of poems                                    START_ इन क्षेत्रों का तो वे कोनाकोना झाँक आये। _END                                                   11                   10                 \n84911   indic2012  indias mumbaiold name bombayit is the capital of maharashtra                        START_ भारत के पश्चिमी तट पर स्थित मुम्बई पूर्व नाम बम्बई भारतीय राज्य महाराष्ट्र की राजधानी है। _END  9                    18                 \n126492  indic2012  emegadictionary cdac presented by indian government                                 START_ इमहाशब्दकोश सीडैक भारत सरकार की प्रस्तुत _END                                                   6                    8                  \n25719   indic2012  main futures of parliament                                                          START_ लोकसभा की विशेष शक्तियाँ _END                                                                   4                    6                  \n46734   indic2012  newracreestaoph and explain mobileepistemology of all over communication            START_ नईऋ क्रीस्टॉफ एड मोबाइल को समझना सर्वव्यापक संचार की एपीस्टेमोलोगी _END                         8                    12                 \n50907   indic2012  subhashchandra bose short introduction world web                                    START_ सुभाषचंद्र बोस संक्षिप्त परिचय वेबदुनिया _END                                                   6                    7                  \n20073   indic2012  the grand opening of all these messages was done by adam                            START_ इन संदेशों का शुभारम्भ आदम से हुआ था। _END                                                      11                   10                 \n53837   indic2012  in the insights of junaghar there is old museum which contains the historic things  START_ जूनागढ़ दुर्ग के अन्दर एक संग्रहालय है जिसमें बहुमूल्य पुरातन वस्तुओं का संग्रह है। _END        14                   16                 ",
            "text/html": "<div>\n<style scoped>\n    .dataframe tbody tr th:only-of-type {\n        vertical-align: middle;\n    }\n\n    .dataframe tbody tr th {\n        vertical-align: top;\n    }\n\n    .dataframe thead th {\n        text-align: right;\n    }\n</style>\n<table border=\"1\" class=\"dataframe\">\n  <thead>\n    <tr style=\"text-align: right;\">\n      <th></th>\n      <th>source</th>\n      <th>english_sentence</th>\n      <th>hindi_sentence</th>\n      <th>length_eng_sentence</th>\n      <th>length_hin_sentence</th>\n    </tr>\n  </thead>\n  <tbody>\n    <tr>\n      <th>35273</th>\n      <td>indic2012</td>\n      <td>premchand and key to hindi</td>\n      <td>START_ प्रेमचंद हिंदीकुंज में _END</td>\n      <td>5</td>\n      <td>5</td>\n    </tr>\n    <tr>\n      <th>110967</th>\n      <td>indic2012</td>\n      <td>in last yudhirthir aboard on indra chariot with brother and went to havens</td>\n      <td>START_ अन्त में युधिष्ठिर इन्द्र के रथ पर आरूढ़ हो दिव्य रूप धारी भाइयों सहित स्वर्ग को चले गये। _END</td>\n      <td>13</td>\n      <td>20</td>\n    </tr>\n    <tr>\n      <th>32202</th>\n      <td>indic2012</td>\n      <td>he knew each and every bit in this type of poems</td>\n      <td>START_ इन क्षेत्रों का तो वे कोनाकोना झाँक आये। _END</td>\n      <td>11</td>\n      <td>10</td>\n    </tr>\n    <tr>\n      <th>84911</th>\n      <td>indic2012</td>\n      <td>indias mumbaiold name bombayit is the capital of maharashtra</td>\n      <td>START_ भारत के पश्चिमी तट पर स्थित मुम्बई पूर्व नाम बम्बई भारतीय राज्य महाराष्ट्र की राजधानी है। _END</td>\n      <td>9</td>\n      <td>18</td>\n    </tr>\n    <tr>\n      <th>126492</th>\n      <td>indic2012</td>\n      <td>emegadictionary cdac presented by indian government</td>\n      <td>START_ इमहाशब्दकोश सीडैक भारत सरकार की प्रस्तुत _END</td>\n      <td>6</td>\n      <td>8</td>\n    </tr>\n    <tr>\n      <th>25719</th>\n      <td>indic2012</td>\n      <td>main futures of parliament</td>\n      <td>START_ लोकसभा की विशेष शक्तियाँ _END</td>\n      <td>4</td>\n      <td>6</td>\n    </tr>\n    <tr>\n      <th>46734</th>\n      <td>indic2012</td>\n      <td>newracreestaoph and explain mobileepistemology of all over communication</td>\n      <td>START_ नईऋ क्रीस्टॉफ एड मोबाइल को समझना सर्वव्यापक संचार की एपीस्टेमोलोगी _END</td>\n      <td>8</td>\n      <td>12</td>\n    </tr>\n    <tr>\n      <th>50907</th>\n      <td>indic2012</td>\n      <td>subhashchandra bose short introduction world web</td>\n      <td>START_ सुभाषचंद्र बोस संक्षिप्त परिचय वेबदुनिया _END</td>\n      <td>6</td>\n      <td>7</td>\n    </tr>\n    <tr>\n      <th>20073</th>\n      <td>indic2012</td>\n      <td>the grand opening of all these messages was done by adam</td>\n      <td>START_ इन संदेशों का शुभारम्भ आदम से हुआ था। _END</td>\n      <td>11</td>\n      <td>10</td>\n    </tr>\n    <tr>\n      <th>53837</th>\n      <td>indic2012</td>\n      <td>in the insights of junaghar there is old museum which contains the historic things</td>\n      <td>START_ जूनागढ़ दुर्ग के अन्दर एक संग्रहालय है जिसमें बहुमूल्य पुरातन वस्तुओं का संग्रह है। _END</td>\n      <td>14</td>\n      <td>16</td>\n    </tr>\n  </tbody>\n</table>\n</div>"
          },
          "metadata": {}
        }
      ]
    },
    {
      "cell_type": "markdown",
      "metadata": {
        "id": "AHE96ub6Fu0h"
      },
      "source": [
        "### Split the data into train and test"
      ]
    },
    {
      "cell_type": "code",
      "metadata": {
        "id": "zMmAjBxlFu0i",
        "execution": {
          "iopub.status.busy": "2021-11-23T16:15:01.389176Z",
          "iopub.execute_input": "2021-11-23T16:15:01.389611Z",
          "iopub.status.idle": "2021-11-23T16:15:01.401243Z",
          "shell.execute_reply.started": "2021-11-23T16:15:01.389576Z",
          "shell.execute_reply": "2021-11-23T16:15:01.400281Z"
        },
        "trusted": true,
        "outputId": "5c9f6de4-955b-401d-9f9b-263aa1c8e399"
      },
      "source": [
        "X, y = lines['english_sentence'], lines['hindi_sentence']\n",
        "X_train, X_test, y_train, y_test = train_test_split(X, y, test_size = 0.2,random_state=42)\n",
        "X_train.shape, X_test.shape"
      ],
      "execution_count": null,
      "outputs": [
        {
          "execution_count": 73,
          "output_type": "execute_result",
          "data": {
            "text/plain": "((13576,), (3394,))"
          },
          "metadata": {}
        }
      ]
    },
    {
      "cell_type": "markdown",
      "metadata": {
        "id": "4wleaIoMFu0i"
      },
      "source": [
        "### Let us save this data"
      ]
    },
    {
      "cell_type": "code",
      "metadata": {
        "id": "iE1-ddRkFu0j",
        "execution": {
          "iopub.status.busy": "2021-11-23T16:15:01.402261Z",
          "iopub.execute_input": "2021-11-23T16:15:01.402785Z",
          "iopub.status.idle": "2021-11-23T16:15:01.420743Z",
          "shell.execute_reply.started": "2021-11-23T16:15:01.402752Z",
          "shell.execute_reply": "2021-11-23T16:15:01.419965Z"
        },
        "trusted": true
      },
      "source": [
        "X_train.to_pickle('X_train.pkl')\n",
        "X_test.to_pickle('X_test.pkl')\n"
      ],
      "execution_count": null,
      "outputs": []
    },
    {
      "cell_type": "code",
      "metadata": {
        "id": "pRh8XOy7Fu0k",
        "execution": {
          "iopub.status.busy": "2021-11-23T16:15:01.423147Z",
          "iopub.execute_input": "2021-11-23T16:15:01.423569Z",
          "iopub.status.idle": "2021-11-23T16:15:01.433431Z",
          "shell.execute_reply.started": "2021-11-23T16:15:01.423514Z",
          "shell.execute_reply": "2021-11-23T16:15:01.432595Z"
        },
        "trusted": true
      },
      "source": [
        "# make batch for encoder decoder model\n",
        "\n",
        "\n",
        "def generate_batch(X = X_train, y = y_train, batch_size = 128):\n",
        "    ''' Generate a batch of data '''\n",
        "    while True:\n",
        "        for j in range(0, len(X), batch_size):\n",
        "            # make context vector using numpy zeros\n",
        "            encoder_input_data = np.zeros((batch_size, max_length_src),dtype='float32')\n",
        "            decoder_input_data = np.zeros((batch_size, max_length_tar),dtype='float32')\n",
        "            decoder_target_data = np.zeros((batch_size, max_length_tar, num_decoder_tokens),dtype='float32')\n",
        "            for i, (input_text, target_text) in enumerate(zip(X[j:j+batch_size], y[j:j+batch_size])):\n",
        "                for t, word in enumerate(input_text.split()):\n",
        "                    encoder_input_data[i, t] = input_token_index[word] # encoder input seq\n",
        "                for t, word in enumerate(target_text.split()):\n",
        "                    if t<len(target_text.split())-1:\n",
        "                        decoder_input_data[i, t] = target_token_index[word] # decoder input seq\n",
        "                    if t>0:\n",
        "                        # decoder target sequence (one hot encoded)\n",
        "                        # does not include the START_ token\n",
        "                        # Offset by one timestep\n",
        "                        decoder_target_data[i, t - 1, target_token_index[word]] = 1.\n",
        "            # itna nhi puchenge\n",
        "            yield([encoder_input_data, decoder_input_data], decoder_target_data)"
      ],
      "execution_count": null,
      "outputs": []
    },
    {
      "cell_type": "markdown",
      "metadata": {
        "id": "XR1aooadFu0n"
      },
      "source": [
        "### Encoder-Decoder Architecture"
      ]
    },
    {
      "cell_type": "code",
      "metadata": {
        "id": "ARLOifauFu0o",
        "execution": {
          "iopub.status.busy": "2021-11-23T16:15:01.435094Z",
          "iopub.execute_input": "2021-11-23T16:15:01.435660Z",
          "iopub.status.idle": "2021-11-23T16:15:01.448162Z",
          "shell.execute_reply.started": "2021-11-23T16:15:01.435620Z",
          "shell.execute_reply": "2021-11-23T16:15:01.447260Z"
        },
        "trusted": true
      },
      "source": [
        "latent_dim=300"
      ],
      "execution_count": null,
      "outputs": []
    },
    {
      "cell_type": "code",
      "metadata": {
        "id": "eoowBFu3Fu0o",
        "execution": {
          "iopub.status.busy": "2021-11-23T16:15:01.449059Z",
          "iopub.execute_input": "2021-11-23T16:15:01.449595Z",
          "iopub.status.idle": "2021-11-23T16:15:02.307682Z",
          "shell.execute_reply.started": "2021-11-23T16:15:01.449565Z",
          "shell.execute_reply": "2021-11-23T16:15:02.306798Z"
        },
        "trusted": true
      },
      "source": [
        "# Encoder\n",
        "encoder_inputs = Input(shape=(None,))\n",
        "enc_emb =  Embedding(num_encoder_tokens, latent_dim, mask_zero = True)(encoder_inputs)\n",
        "encoder_lstm = LSTM(latent_dim, return_state=True)\n",
        "encoder_outputs, state_h, state_c = encoder_lstm(enc_emb)\n",
        "# We discard `encoder_outputs` and only keep the states.\n",
        "encoder_states = [state_h, state_c]"
      ],
      "execution_count": null,
      "outputs": []
    },
    {
      "cell_type": "code",
      "metadata": {
        "id": "MMh77A8dFu0o",
        "execution": {
          "iopub.status.busy": "2021-11-23T16:15:02.308902Z",
          "iopub.execute_input": "2021-11-23T16:15:02.309139Z",
          "iopub.status.idle": "2021-11-23T16:15:03.206013Z",
          "shell.execute_reply.started": "2021-11-23T16:15:02.309110Z",
          "shell.execute_reply": "2021-11-23T16:15:03.205163Z"
        },
        "trusted": true
      },
      "source": [
        "# Set up the decoder, using `encoder_states` as initial state.\n",
        "decoder_inputs = Input(shape=(None,))\n",
        "dec_emb_layer = Embedding(num_decoder_tokens, latent_dim, mask_zero = True)\n",
        "dec_emb = dec_emb_layer(decoder_inputs)\n",
        "# We set up our decoder to return full output sequences,\n",
        "# and to return internal states as well. We don't use the\n",
        "# return states in the training model, but we will use them in inference.\n",
        "decoder_lstm = LSTM(latent_dim, return_sequences=True, return_state=True)\n",
        "decoder_outputs, _, _ = decoder_lstm(dec_emb,\n",
        "                                     initial_state=encoder_states)\n",
        "decoder_dense = Dense(num_decoder_tokens, activation='softmax')\n",
        "decoder_outputs = decoder_dense(decoder_outputs)\n",
        "\n",
        "# Define the model that will turn\n",
        "# `encoder_input_data` & `decoder_input_data` into `decoder_target_data`\n",
        "model = Model([encoder_inputs, decoder_inputs], decoder_outputs)"
      ],
      "execution_count": null,
      "outputs": []
    },
    {
      "cell_type": "code",
      "metadata": {
        "id": "zSZLTbqaFu0p",
        "execution": {
          "iopub.status.busy": "2021-11-23T16:15:03.207274Z",
          "iopub.execute_input": "2021-11-23T16:15:03.208083Z",
          "iopub.status.idle": "2021-11-23T16:15:03.216727Z",
          "shell.execute_reply.started": "2021-11-23T16:15:03.208050Z",
          "shell.execute_reply": "2021-11-23T16:15:03.216067Z"
        },
        "trusted": true
      },
      "source": [
        "model.compile(optimizer='rmsprop', loss='categorical_crossentropy')"
      ],
      "execution_count": null,
      "outputs": []
    },
    {
      "cell_type": "code",
      "metadata": {
        "id": "VKsWFB_GFu0r",
        "execution": {
          "iopub.status.busy": "2021-11-23T16:15:03.217981Z",
          "iopub.execute_input": "2021-11-23T16:15:03.218392Z",
          "iopub.status.idle": "2021-11-23T16:15:03.234805Z",
          "shell.execute_reply.started": "2021-11-23T16:15:03.218364Z",
          "shell.execute_reply": "2021-11-23T16:15:03.233880Z"
        },
        "trusted": true,
        "outputId": "6de69b45-db9d-465f-902e-acb42d1f9542"
      },
      "source": [
        "model.summary()"
      ],
      "execution_count": null,
      "outputs": [
        {
          "name": "stdout",
          "text": "Model: \"model_1\"\n__________________________________________________________________________________________________\nLayer (type)                    Output Shape         Param #     Connected to                     \n==================================================================================================\ninput_3 (InputLayer)            [(None, None)]       0                                            \n__________________________________________________________________________________________________\ninput_4 (InputLayer)            [(None, None)]       0                                            \n__________________________________________________________________________________________________\nembedding_2 (Embedding)         (None, None, 300)    9134100     input_3[0][0]                    \n__________________________________________________________________________________________________\nembedding_3 (Embedding)         (None, None, 300)    6152100     input_4[0][0]                    \n__________________________________________________________________________________________________\nlstm_2 (LSTM)                   [(None, 300), (None, 721200      embedding_2[0][0]                \n__________________________________________________________________________________________________\nlstm_3 (LSTM)                   [(None, None, 300),  721200      embedding_3[0][0]                \n                                                                 lstm_2[0][1]                     \n                                                                 lstm_2[0][2]                     \n__________________________________________________________________________________________________\ndense_1 (Dense)                 (None, None, 20507)  6172607     lstm_3[0][0]                     \n==================================================================================================\nTotal params: 22,901,207\nTrainable params: 22,901,207\nNon-trainable params: 0\n__________________________________________________________________________________________________\n",
          "output_type": "stream"
        }
      ]
    },
    {
      "cell_type": "code",
      "metadata": {
        "id": "edk_PsxPFu0r",
        "execution": {
          "iopub.status.busy": "2021-11-23T16:15:03.236408Z",
          "iopub.execute_input": "2021-11-23T16:15:03.237189Z",
          "iopub.status.idle": "2021-11-23T16:15:03.242113Z",
          "shell.execute_reply.started": "2021-11-23T16:15:03.237146Z",
          "shell.execute_reply": "2021-11-23T16:15:03.241555Z"
        },
        "trusted": true
      },
      "source": [
        "train_samples = len(X_train)\n",
        "val_samples = len(X_test)\n",
        "# take 128 sequence\n",
        "batch_size = 128\n",
        "\n",
        "# steps\n",
        "epochs = 20"
      ],
      "execution_count": null,
      "outputs": []
    },
    {
      "cell_type": "code",
      "metadata": {
        "id": "kFspl7XhFu0s",
        "execution": {
          "iopub.status.busy": "2021-11-23T16:15:03.243620Z",
          "iopub.execute_input": "2021-11-23T16:15:03.244148Z",
          "iopub.status.idle": "2021-11-23T17:11:19.301345Z",
          "shell.execute_reply.started": "2021-11-23T16:15:03.244075Z",
          "shell.execute_reply": "2021-11-23T17:11:19.300419Z"
        },
        "trusted": true,
        "outputId": "ac76e478-ef50-458f-9873-8b4ef7dda116"
      },
      "source": [
        "model.fit_generator(generator = generate_batch(X_train, y_train, batch_size = batch_size),\n",
        "                    steps_per_epoch = train_samples//batch_size,\n",
        "                    epochs=epochs,\n",
        "                    validation_data = generate_batch(X_test, y_test, batch_size = batch_size),\n",
        "                    validation_steps = val_samples//batch_size)"
      ],
      "execution_count": null,
      "outputs": [
        {
          "name": "stderr",
          "text": "/opt/conda/lib/python3.7/site-packages/keras/engine/training.py:1972: UserWarning: `Model.fit_generator` is deprecated and will be removed in a future version. Please use `Model.fit`, which supports generators.\n  warnings.warn('`Model.fit_generator` is deprecated and '\n",
          "output_type": "stream"
        },
        {
          "name": "stdout",
          "text": "Epoch 1/20\n106/106 [==============================] - 179s 2s/step - loss: 3.5104 - val_loss: 3.2890\nEpoch 2/20\n106/106 [==============================] - 168s 2s/step - loss: 3.1533 - val_loss: 3.1755\nEpoch 3/20\n106/106 [==============================] - 168s 2s/step - loss: 3.0073 - val_loss: 3.0659\nEpoch 4/20\n106/106 [==============================] - 168s 2s/step - loss: 2.8626 - val_loss: 2.9532\nEpoch 5/20\n106/106 [==============================] - 168s 2s/step - loss: 2.7201 - val_loss: 2.8526\nEpoch 6/20\n106/106 [==============================] - 168s 2s/step - loss: 2.5726 - val_loss: 2.7345\nEpoch 7/20\n106/106 [==============================] - 169s 2s/step - loss: 2.4229 - val_loss: 2.6318\nEpoch 8/20\n106/106 [==============================] - 168s 2s/step - loss: 2.2733 - val_loss: 2.5333\nEpoch 9/20\n106/106 [==============================] - 169s 2s/step - loss: 2.1308 - val_loss: 2.4435\nEpoch 10/20\n106/106 [==============================] - 168s 2s/step - loss: 1.9932 - val_loss: 2.3562\nEpoch 11/20\n106/106 [==============================] - 169s 2s/step - loss: 1.8603 - val_loss: 2.2869\nEpoch 12/20\n106/106 [==============================] - 168s 2s/step - loss: 1.7281 - val_loss: 2.1956\nEpoch 13/20\n106/106 [==============================] - 168s 2s/step - loss: 1.5977 - val_loss: 2.1178\nEpoch 14/20\n106/106 [==============================] - 168s 2s/step - loss: 1.4736 - val_loss: 2.0418\nEpoch 15/20\n106/106 [==============================] - 169s 2s/step - loss: 1.3550 - val_loss: 1.9718\nEpoch 16/20\n106/106 [==============================] - 168s 2s/step - loss: 1.2405 - val_loss: 1.9124\nEpoch 17/20\n106/106 [==============================] - 168s 2s/step - loss: 1.1313 - val_loss: 1.8407\nEpoch 18/20\n106/106 [==============================] - 168s 2s/step - loss: 1.0296 - val_loss: 1.7808\nEpoch 19/20\n106/106 [==============================] - 169s 2s/step - loss: 0.9319 - val_loss: 1.7169\nEpoch 20/20\n106/106 [==============================] - 169s 2s/step - loss: 0.8425 - val_loss: 1.6652\n",
          "output_type": "stream"
        },
        {
          "execution_count": 82,
          "output_type": "execute_result",
          "data": {
            "text/plain": "<keras.callbacks.History at 0x7fa64cf385d0>"
          },
          "metadata": {}
        }
      ]
    },
    {
      "cell_type": "markdown",
      "metadata": {
        "id": "NDxIRsiv2X6w"
      },
      "source": [
        "## Run till 20 epochs."
      ]
    },
    {
      "cell_type": "code",
      "metadata": {
        "id": "nYBAxSa-Fu0s",
        "execution": {
          "iopub.status.busy": "2021-11-23T17:11:19.305715Z",
          "iopub.execute_input": "2021-11-23T17:11:19.305944Z",
          "iopub.status.idle": "2021-11-23T17:11:19.448453Z",
          "shell.execute_reply.started": "2021-11-23T17:11:19.305910Z",
          "shell.execute_reply": "2021-11-23T17:11:19.447626Z"
        },
        "trusted": true
      },
      "source": [
        "model.save_weights('nmt_weights.h5')"
      ],
      "execution_count": null,
      "outputs": []
    },
    {
      "cell_type": "code",
      "metadata": {
        "id": "NIJsAhxoFu0s",
        "execution": {
          "iopub.status.busy": "2021-11-23T17:11:19.449898Z",
          "iopub.execute_input": "2021-11-23T17:11:19.450112Z",
          "iopub.status.idle": "2021-11-23T17:11:20.253568Z",
          "shell.execute_reply.started": "2021-11-23T17:11:19.450085Z",
          "shell.execute_reply": "2021-11-23T17:11:20.252798Z"
        },
        "trusted": true
      },
      "source": [
        "# Encode the input sequence to get the \"thought vectors\"\n",
        "encoder_model = Model(encoder_inputs, encoder_states)\n",
        "\n",
        "# Decoder setup\n",
        "# Below tensors will hold the states of the previous time step\n",
        "decoder_state_input_h = Input(shape=(latent_dim,))\n",
        "decoder_state_input_c = Input(shape=(latent_dim,))\n",
        "decoder_states_inputs = [decoder_state_input_h, decoder_state_input_c]\n",
        "\n",
        "dec_emb2= dec_emb_layer(decoder_inputs) # Get the embeddings of the decoder sequence\n",
        "\n",
        "# To predict the next word in the sequence, set the initial states to the states from the previous time step\n",
        "decoder_outputs2, state_h2, state_c2 = decoder_lstm(dec_emb2, initial_state=decoder_states_inputs)\n",
        "decoder_states2 = [state_h2, state_c2]\n",
        "decoder_outputs2 = decoder_dense(decoder_outputs2) # A dense softmax layer to generate prob dist. over the target vocabulary\n",
        "\n",
        "# Final decoder model\n",
        "decoder_model = Model(\n",
        "    [decoder_inputs] + decoder_states_inputs,\n",
        "    [decoder_outputs2] + decoder_states2)"
      ],
      "execution_count": null,
      "outputs": []
    },
    {
      "cell_type": "code",
      "metadata": {
        "id": "3pOwNjzuFu0t",
        "execution": {
          "iopub.status.busy": "2021-11-23T17:11:20.254758Z",
          "iopub.execute_input": "2021-11-23T17:11:20.255022Z",
          "iopub.status.idle": "2021-11-23T17:11:20.263094Z",
          "shell.execute_reply.started": "2021-11-23T17:11:20.254992Z",
          "shell.execute_reply": "2021-11-23T17:11:20.262318Z"
        },
        "trusted": true
      },
      "source": [
        "def decode_sequence(input_seq):\n",
        "    # Encode the input as state vectors.\n",
        "    states_value = encoder_model.predict(input_seq)\n",
        "    # Generate empty target sequence of length 1.\n",
        "    target_seq = np.zeros((1,1))\n",
        "    # Populate the first character of target sequence with the start character.\n",
        "    target_seq[0, 0] = target_token_index['START_']\n",
        "\n",
        "    # Sampling loop for a batch of sequences\n",
        "    # (to simplify, here we assume a batch of size 1).\n",
        "    stop_condition = False\n",
        "    decoded_sentence = ''\n",
        "    while not stop_condition:\n",
        "        output_tokens, h, c = decoder_model.predict([target_seq] + states_value)\n",
        "\n",
        "        # Sample a token\n",
        "        sampled_token_index = np.argmax(output_tokens[0, -1, :])\n",
        "        sampled_char = reverse_target_char_index[sampled_token_index]\n",
        "        decoded_sentence += ' '+sampled_char\n",
        "\n",
        "        # Exit condition: either hit max length\n",
        "        # or find stop character.\n",
        "        if (sampled_char == '_END' or\n",
        "           len(decoded_sentence) > 50):\n",
        "            stop_condition = True\n",
        "\n",
        "        # Update the target sequence (of length 1).\n",
        "        target_seq = np.zeros((1,1))\n",
        "        target_seq[0, 0] = sampled_token_index\n",
        "\n",
        "        # Update states\n",
        "        states_value = [h, c]\n",
        "\n",
        "    return decoded_sentence\n"
      ],
      "execution_count": null,
      "outputs": []
    },
    {
      "cell_type": "code",
      "metadata": {
        "id": "LT_PGpY-Fu0u",
        "execution": {
          "iopub.status.busy": "2021-11-23T17:11:20.264433Z",
          "iopub.execute_input": "2021-11-23T17:11:20.264703Z",
          "iopub.status.idle": "2021-11-23T17:11:20.279772Z",
          "shell.execute_reply.started": "2021-11-23T17:11:20.264674Z",
          "shell.execute_reply": "2021-11-23T17:11:20.279051Z"
        },
        "trusted": true
      },
      "source": [
        "# get 1 sentence pair (english to hindi)\n",
        "train_gen = generate_batch(X_train, y_train, batch_size = 1)\n",
        "k=-1\n"
      ],
      "execution_count": null,
      "outputs": []
    },
    {
      "cell_type": "code",
      "metadata": {
        "id": "9kCpFb0hFu0u",
        "execution": {
          "iopub.status.busy": "2021-11-23T17:11:20.281451Z",
          "iopub.execute_input": "2021-11-23T17:11:20.282237Z",
          "iopub.status.idle": "2021-11-23T17:11:23.196775Z",
          "shell.execute_reply.started": "2021-11-23T17:11:20.282203Z",
          "shell.execute_reply": "2021-11-23T17:11:23.196016Z"
        },
        "trusted": true,
        "outputId": "373156e4-d060-4620-dc80-1f32f4ddba5b"
      },
      "source": [
        "k+=1\n",
        "# get hindi sentence\n",
        "(input_seq, actual_output), _ = next(train_gen)\n",
        "decoded_sentence = decode_sequence(input_seq)\n",
        "print('Input English sentence:', X_train[k:k+1].values[0])\n",
        "print('Actual Hindi Translation:', y_train[k:k+1].values[0][6:-4])\n",
        "# -4 for removing _END\n",
        "print('Predicted Hindi Translation:', decoded_sentence[:-4])"
      ],
      "execution_count": null,
      "outputs": [
        {
          "name": "stdout",
          "text": "Input English sentence: pilgrim and pilgrimage\nActual Hindi Translation:  तीर्थ एवं तीर्थ यात्रा \nPredicted Hindi Translation:  तीर्थ एवं तीर्थ यात्रा \n",
          "output_type": "stream"
        }
      ]
    },
    {
      "cell_type": "code",
      "metadata": {
        "id": "dn7qSjvqFu0z",
        "execution": {
          "iopub.status.busy": "2021-11-23T17:11:23.198074Z",
          "iopub.execute_input": "2021-11-23T17:11:23.198500Z",
          "iopub.status.idle": "2021-11-23T17:11:23.568593Z",
          "shell.execute_reply.started": "2021-11-23T17:11:23.198470Z",
          "shell.execute_reply": "2021-11-23T17:11:23.567754Z"
        },
        "trusted": true,
        "outputId": "24a43667-0841-44c7-9849-ab55c2577f47"
      },
      "source": [
        "k+=1\n",
        "(input_seq, actual_output), _ = next(train_gen)\n",
        "decoded_sentence = decode_sequence(input_seq)\n",
        "print('Input English sentence:', X_train[k:k+1].values[0])\n",
        "print('Actual Hindi Translation:', y_train[k:k+1].values[0][6:-4])\n",
        "print('Predicted Hindi Translation:', decoded_sentence[:-4])"
      ],
      "execution_count": null,
      "outputs": [
        {
          "name": "stdout",
          "text": "Input English sentence: other types of cricket\nActual Hindi Translation:  क्रिकेट के अन्य प्रकार \nPredicted Hindi Translation:  चीन के प्रमुख प्रकार \n",
          "output_type": "stream"
        }
      ]
    },
    {
      "cell_type": "code",
      "metadata": {
        "id": "nopKuXplFu00",
        "execution": {
          "iopub.status.busy": "2021-11-23T17:11:23.569747Z",
          "iopub.execute_input": "2021-11-23T17:11:23.569972Z",
          "iopub.status.idle": "2021-11-23T17:11:24.312582Z",
          "shell.execute_reply.started": "2021-11-23T17:11:23.569945Z",
          "shell.execute_reply": "2021-11-23T17:11:24.311810Z"
        },
        "trusted": true,
        "outputId": "1cfb66fe-e45a-4cf0-941f-3947243e565a"
      },
      "source": [
        "k+=1\n",
        "(input_seq, actual_output), _ = next(train_gen)\n",
        "decoded_sentence = decode_sequence(input_seq)\n",
        "print('Input English sentence:', X_train[k:k+1].values[0])\n",
        "print('Actual Hindi Translation:', y_train[k:k+1].values[0][6:-4])\n",
        "print('Predicted Hindi Translation:', decoded_sentence[:-4])"
      ],
      "execution_count": null,
      "outputs": [
        {
          "name": "stdout",
          "text": "Input English sentence: at last in along with his disciples he has to leave makka for madina\nActual Hindi Translation:  अंत में में उन्हें अपने अनुयायियों के साथ मक्का से मदीना के लिए कूच करना पड़ा। \nPredicted Hindi Translation:  में उन्हें उपन्यास की जाती है जिसे वे श्यामा के \n",
          "output_type": "stream"
        }
      ]
    },
    {
      "cell_type": "code",
      "metadata": {
        "id": "lrfdbo_SFu00",
        "execution": {
          "iopub.status.busy": "2021-11-23T17:11:24.313904Z",
          "iopub.execute_input": "2021-11-23T17:11:24.314208Z",
          "iopub.status.idle": "2021-11-23T17:11:24.934431Z",
          "shell.execute_reply.started": "2021-11-23T17:11:24.314166Z",
          "shell.execute_reply": "2021-11-23T17:11:24.933756Z"
        },
        "trusted": true,
        "outputId": "70d74ccd-a98e-4e08-9b25-3b96c1ab5a06"
      },
      "source": [
        "k+=1\n",
        "(input_seq, actual_output), _ = next(train_gen)\n",
        "decoded_sentence = decode_sequence(input_seq)\n",
        "print('Input English sentence:', X_train[k:k+1].values[0])\n",
        "print('Actual Hindi Translation:', y_train[k:k+1].values[0][6:-4])\n",
        "print('Predicted Hindi Translation:', decoded_sentence[:-4])"
      ],
      "execution_count": null,
      "outputs": [
        {
          "name": "stdout",
          "text": "Input English sentence: traditional indian family values are observed with great honor\nActual Hindi Translation:  पारंपरिक भारतीय पारिवारिक मूल्यों को काफी आदर की दृष्टि से देखा जाता है। \nPredicted Hindi Translation:  भारतीय भारतीय संस्कृति मे भारतीय संस्कार व पाक\n",
          "output_type": "stream"
        }
      ]
    },
    {
      "cell_type": "code",
      "metadata": {
        "id": "tGCtbL5sFu01",
        "execution": {
          "iopub.status.busy": "2021-11-23T17:11:24.935527Z",
          "iopub.execute_input": "2021-11-23T17:11:24.935775Z",
          "iopub.status.idle": "2021-11-23T17:11:25.684408Z",
          "shell.execute_reply.started": "2021-11-23T17:11:24.935748Z",
          "shell.execute_reply": "2021-11-23T17:11:25.683609Z"
        },
        "trusted": true,
        "outputId": "fb2edea4-40d6-4b3b-da68-d0dfd89185a8"
      },
      "source": [
        "k+=1\n",
        "(input_seq, actual_output), _ = next(train_gen)\n",
        "decoded_sentence = decode_sequence(input_seq)\n",
        "print('Input English sentence:', X_train[k:k+1].values[0])\n",
        "print('Actual Hindi Translation:', y_train[k:k+1].values[0][6:-4])\n",
        "print('Predicted Hindi Translation:', decoded_sentence[:-4])"
      ],
      "execution_count": null,
      "outputs": [
        {
          "name": "stdout",
          "text": "Input English sentence: city of agra uttar pradesh province adopt hahshial\nActual Hindi Translation:  आगरा उत्तर प्रदेश प्रान्त का एक ज़िला शहर व तहसील है। \nPredicted Hindi Translation:  आगरा उत्तर प्रदेश प्रान्त का एक ज़िला शहर व तहसील\n",
          "output_type": "stream"
        }
      ]
    },
    {
      "cell_type": "markdown",
      "metadata": {
        "id": "UBdL9VzGFu01"
      },
      "source": [
        "**Bleu Score calculation**"
      ]
    },
    {
      "cell_type": "code",
      "metadata": {
        "id": "Vi-27bftFu01",
        "execution": {
          "iopub.status.busy": "2021-11-23T17:11:25.685587Z",
          "iopub.execute_input": "2021-11-23T17:11:25.685823Z",
          "iopub.status.idle": "2021-11-23T17:11:25.690402Z",
          "shell.execute_reply.started": "2021-11-23T17:11:25.685793Z",
          "shell.execute_reply": "2021-11-23T17:11:25.689445Z"
        },
        "trusted": true
      },
      "source": [
        "a = y_train[k:k+1].values[0][6:-4]\n",
        "b = decoded_sentence[:-4]"
      ],
      "execution_count": null,
      "outputs": []
    },
    {
      "cell_type": "code",
      "metadata": {
        "id": "jqtvngHVFu01",
        "execution": {
          "iopub.status.busy": "2021-11-23T17:11:25.691420Z",
          "iopub.execute_input": "2021-11-23T17:11:25.691687Z",
          "iopub.status.idle": "2021-11-23T17:11:26.235701Z",
          "shell.execute_reply.started": "2021-11-23T17:11:25.691657Z",
          "shell.execute_reply": "2021-11-23T17:11:26.234858Z"
        },
        "trusted": true,
        "outputId": "ee135896-46f1-494b-89a0-11e25912ff66"
      },
      "source": [
        "from nltk.translate.bleu_score import sentence_bleu\n",
        "score = sentence_bleu( a, b)\n",
        "print('Bleu score:', '%3f'%score)"
      ],
      "execution_count": null,
      "outputs": [
        {
          "name": "stdout",
          "text": "Bleu score: 0.823549\n",
          "output_type": "stream"
        },
        {
          "name": "stderr",
          "text": "/opt/conda/lib/python3.7/site-packages/nltk/translate/bleu_score.py:490: UserWarning: \nCorpus/Sentence contains 0 counts of 2-gram overlaps.\nBLEU scores might be undesirable; use SmoothingFunction().\n  warnings.warn(_msg)\n",
          "output_type": "stream"
        }
      ]
    }
  ]
}